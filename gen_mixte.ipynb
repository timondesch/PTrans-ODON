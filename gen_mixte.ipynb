{
 "cells": [
  {
   "cell_type": "code",
   "execution_count": null,
   "metadata": {},
   "outputs": [],
   "source": [
    "import h5py\n",
    "from glob import glob\n",
    "import random\n",
    "import csv\n",
    "import os\n",
    "\n",
    "import numpy as np\n",
    "import matplotlib.pyplot as plt\n",
    "import cv2\n",
    "\n",
    "from tools.treatments_generation.treatments_generation import gen_treatment\n",
    "from tools.IPDL import inference"
   ]
  },
  {
   "cell_type": "code",
   "execution_count": null,
   "metadata": {},
   "outputs": [],
   "source": [
    "WEIGHTS = [*range(1, 9)]\n",
    "WEIGHTS = WEIGHTS / np.sum(WEIGHTS)"
   ]
  },
  {
   "cell_type": "code",
   "execution_count": null,
   "metadata": {},
   "outputs": [],
   "source": [
    "label_file = \"IN/labels.csv\"\n",
    "model = inference.createModel(\"tools/IPDL/model_weights.keras\")\n",
    "h5py_files = glob('IN/H5PY/dataset_h5py/*.h5py')"
   ]
  },
  {
   "cell_type": "code",
   "execution_count": null,
   "metadata": {},
   "outputs": [],
   "source": [
    "treatments = {}\n",
    "with open(label_file, 'r') as f:\n",
    "    file = csv.reader(f, delimiter=',')\n",
    "    for line in file:\n",
    "        treatments[line[0]] = {}\n",
    "        for i in range(1, 33):\n",
    "            treatments[line[0]][i] = bool(int(line[i][-1]))"
   ]
  },
  {
   "cell_type": "code",
   "execution_count": null,
   "metadata": {},
   "outputs": [],
   "source": [
    "kernel = np.ones((5,5))"
   ]
  },
  {
   "cell_type": "code",
   "execution_count": null,
   "metadata": {},
   "outputs": [],
   "source": [
    "for p in h5py_files:\n",
    "    with h5py.File(p) as f:\n",
    "        img = cv2.resize(np.array(f['X'])[...,0], (1024, 512), cv2.INTER_NEAREST)\n",
    "        name = os.path.splitext(os.path.basename(p))[0]\n",
    "        \n",
    "        tooth_inpaint = {}\n",
    "\n",
    "        inpaint = inference.infer(model, img/255)*255\n",
    "        plt.imsave(\"t.png\", inpaint, cmap=\"gray\")\n",
    "\n",
    "        for i in [t for t in treatments[name] if treatments[name][t]]:\n",
    "            segm = cv2.resize(np.array(f['y'])[...,i], (1024, 512), cv2.INTER_NEAREST)\n",
    "            segm = cv2.dilate(segm, kernel, iterations=1)\n",
    "            tooth_inpaint[i] = np.multiply(segm, inpaint)\n",
    "        \n",
    "\n",
    "        for k in range(random.randint(4,8)):\n",
    "            current = img\n",
    "            for i in range(1,33):\n",
    "                if(treatments[name][i]):\n",
    "                    if np.random.choice([True, False], 1, p=[0.7, 0.3]):\n",
    "                        current = np.where(tooth_inpaint[i], tooth_inpaint[i], current)\n",
    "\n",
    "                else:\n",
    "                    if(np.any(np.array(f['y'])[...,i])) and np.random.choice([True, False], 1, p=[(((i-1)%8+1)/9)**2, 1 - (((i-1)%8+1)/9)**2]):            \n",
    "                        segm = cv2.resize(np.array(f['y'])[...,i], (1024, 512), cv2.INTER_NEAREST)\n",
    "                        tooth = np.where(segm, img, segm)\n",
    "                        treatment = gen_treatment(i, tooth)\n",
    "                        tooth = np.where(treatment, treatment, tooth)\n",
    "                        current = np.where(segm, tooth, current)\n",
    "\n",
    "            plt.imsave(\"OUT/data_aug_mix/\" + name + \"_\" + str(k) + \".png\", current, cmap='gray')"
   ]
  },
  {
   "cell_type": "code",
   "execution_count": null,
   "metadata": {},
   "outputs": [],
   "source": []
  }
 ],
 "metadata": {
  "interpreter": {
   "hash": "e7370f93d1d0cde622a1f8e1c04877d8463912d04d973331ad4851f04de6915a"
  },
  "kernelspec": {
   "display_name": "Python 3.10.4 64-bit",
   "language": "python",
   "name": "python3"
  },
  "language_info": {
   "codemirror_mode": {
    "name": "ipython",
    "version": 3
   },
   "file_extension": ".py",
   "mimetype": "text/x-python",
   "name": "python",
   "nbconvert_exporter": "python",
   "pygments_lexer": "ipython3",
   "version": "3.10.4"
  },
  "orig_nbformat": 4
 },
 "nbformat": 4,
 "nbformat_minor": 2
}
