{
 "cells": [
  {
   "cell_type": "code",
   "execution_count": 2,
   "metadata": {},
   "outputs": [
    {
     "name": "stderr",
     "output_type": "stream",
     "text": [
      "2022-05-23 17:44:16.374653: W tensorflow/stream_executor/platform/default/dso_loader.cc:64] Could not load dynamic library 'libcudart.so.11.0'; dlerror: libcudart.so.11.0: cannot open shared object file: No such file or directory; LD_LIBRARY_PATH: /home/arman/.local/lib/python3.10/site-packages/cv2/../../lib64:\n",
      "2022-05-23 17:44:16.374695: I tensorflow/stream_executor/cuda/cudart_stub.cc:29] Ignore above cudart dlerror if you do not have a GPU set up on your machine.\n"
     ]
    },
    {
     "name": "stdout",
     "output_type": "stream",
     "text": [
      "2.8.0-rc0\n"
     ]
    }
   ],
   "source": [
    "import h5py\n",
    "from glob import glob\n",
    "import random\n",
    "import csv\n",
    "\n",
    "import numpy as np\n",
    "import cv2\n",
    "\n",
    "import tensorflow as tf\n",
    "from tensorflow import keras\n",
    "\n",
    "import matplotlib.pyplot as plt\n",
    "\n",
    "from tools.IPDL import inference"
   ]
  },
  {
   "cell_type": "code",
   "execution_count": 15,
   "metadata": {},
   "outputs": [],
   "source": [
    "model = inference.createModel(\"tools/IPDL/model_weights.keras\")\n",
    "\n",
    "label_file = \"IN/labels.csv\"\n",
    "\n",
    "h5py_files = glob('IN/H5PY/dataset_h5py/*.h5py')"
   ]
  },
  {
   "cell_type": "code",
   "execution_count": 16,
   "metadata": {},
   "outputs": [],
   "source": [
    "treatments = {}\n",
    "with open(label_file, 'r') as f:\n",
    "    file = csv.reader(f, delimiter=',')\n",
    "    for line in file:\n",
    "        treatments[line[0]] = {}\n",
    "        for i in range(1, 33):\n",
    "            treatments[line[0]][i] = bool(int(line[i][-1]))"
   ]
  },
  {
   "cell_type": "code",
   "execution_count": 17,
   "metadata": {},
   "outputs": [],
   "source": [
    "kernel = np.ones((5,5))"
   ]
  },
  {
   "cell_type": "code",
   "execution_count": 18,
   "metadata": {},
   "outputs": [
    {
     "name": "stderr",
     "output_type": "stream",
     "text": [
      "2022-05-23 17:45:14.012334: W tensorflow/core/framework/cpu_allocator_impl.cc:82] Allocation of 67108864 exceeds 10% of free system memory.\n",
      "2022-05-23 17:45:14.128612: W tensorflow/core/framework/cpu_allocator_impl.cc:82] Allocation of 67108864 exceeds 10% of free system memory.\n",
      "2022-05-23 17:45:14.245859: W tensorflow/core/framework/cpu_allocator_impl.cc:82] Allocation of 16777216 exceeds 10% of free system memory.\n",
      "2022-05-23 17:45:14.279617: W tensorflow/core/framework/cpu_allocator_impl.cc:82] Allocation of 33554432 exceeds 10% of free system memory.\n",
      "2022-05-23 17:45:14.350482: W tensorflow/core/framework/cpu_allocator_impl.cc:82] Allocation of 33554432 exceeds 10% of free system memory.\n"
     ]
    },
    {
     "ename": "FileNotFoundError",
     "evalue": "[Errno 2] No such file or directory: 'out/data_aug_IP/275476_0.png'",
     "output_type": "error",
     "traceback": [
      "\u001b[0;31m---------------------------------------------------------------------------\u001b[0m",
      "\u001b[0;31mFileNotFoundError\u001b[0m                         Traceback (most recent call last)",
      "\u001b[1;32m/home/arman/Polytech/PTrans/gen_data_augm/gen.ipynb Cell 5'\u001b[0m in \u001b[0;36m<cell line: 1>\u001b[0;34m()\u001b[0m\n\u001b[1;32m     <a href='vscode-notebook-cell:/home/arman/Polytech/PTrans/gen_data_augm/gen.ipynb#ch0000005?line=26'>27</a>\u001b[0m     \u001b[39mfor\u001b[39;00m tooth \u001b[39min\u001b[39;00m selected_treatments:\n\u001b[1;32m     <a href='vscode-notebook-cell:/home/arman/Polytech/PTrans/gen_data_augm/gen.ipynb#ch0000005?line=27'>28</a>\u001b[0m         inpaint_i \u001b[39m=\u001b[39m np\u001b[39m.\u001b[39mwhere(tooth, tooth, inpaint_i)\n\u001b[0;32m---> <a href='vscode-notebook-cell:/home/arman/Polytech/PTrans/gen_data_augm/gen.ipynb#ch0000005?line=28'>29</a>\u001b[0m     plt\u001b[39m.\u001b[39;49mimsave(\u001b[39m\"\u001b[39;49m\u001b[39mout/data_aug_IP/\u001b[39;49m\u001b[39m\"\u001b[39;49m \u001b[39m+\u001b[39;49m name \u001b[39m+\u001b[39;49m \u001b[39m\"\u001b[39;49m\u001b[39m_\u001b[39;49m\u001b[39m\"\u001b[39;49m \u001b[39m+\u001b[39;49m \u001b[39mstr\u001b[39;49m(i) \u001b[39m+\u001b[39;49m \u001b[39m\"\u001b[39;49m\u001b[39m.png\u001b[39;49m\u001b[39m\"\u001b[39;49m, inpaint_i, cmap\u001b[39m=\u001b[39;49m\u001b[39m'\u001b[39;49m\u001b[39mgray\u001b[39;49m\u001b[39m'\u001b[39;49m)\n\u001b[1;32m     <a href='vscode-notebook-cell:/home/arman/Polytech/PTrans/gen_data_augm/gen.ipynb#ch0000005?line=32'>33</a>\u001b[0m plt\u001b[39m.\u001b[39mimsave(\u001b[39m\"\u001b[39m\u001b[39mOUT/data_aug_total_IP/\u001b[39m\u001b[39m\"\u001b[39m \u001b[39m+\u001b[39m name \u001b[39m+\u001b[39m \u001b[39m\"\u001b[39m\u001b[39m.png\u001b[39m\u001b[39m\"\u001b[39m, smartinpaint, cmap\u001b[39m=\u001b[39m\u001b[39m'\u001b[39m\u001b[39mgray\u001b[39m\u001b[39m'\u001b[39m)\n",
      "File \u001b[0;32m~/.local/lib/python3.10/site-packages/matplotlib/pyplot.py:2144\u001b[0m, in \u001b[0;36mimsave\u001b[0;34m(fname, arr, **kwargs)\u001b[0m\n\u001b[1;32m   <a href='file:///home/arman/.local/lib/python3.10/site-packages/matplotlib/pyplot.py?line=2141'>2142</a>\u001b[0m \u001b[39m@_copy_docstring_and_deprecators\u001b[39m(matplotlib\u001b[39m.\u001b[39mimage\u001b[39m.\u001b[39mimsave)\n\u001b[1;32m   <a href='file:///home/arman/.local/lib/python3.10/site-packages/matplotlib/pyplot.py?line=2142'>2143</a>\u001b[0m \u001b[39mdef\u001b[39;00m \u001b[39mimsave\u001b[39m(fname, arr, \u001b[39m*\u001b[39m\u001b[39m*\u001b[39mkwargs):\n\u001b[0;32m-> <a href='file:///home/arman/.local/lib/python3.10/site-packages/matplotlib/pyplot.py?line=2143'>2144</a>\u001b[0m     \u001b[39mreturn\u001b[39;00m matplotlib\u001b[39m.\u001b[39;49mimage\u001b[39m.\u001b[39;49mimsave(fname, arr, \u001b[39m*\u001b[39;49m\u001b[39m*\u001b[39;49mkwargs)\n",
      "File \u001b[0;32m~/.local/lib/python3.10/site-packages/matplotlib/image.py:1675\u001b[0m, in \u001b[0;36mimsave\u001b[0;34m(fname, arr, vmin, vmax, cmap, format, origin, dpi, metadata, pil_kwargs)\u001b[0m\n\u001b[1;32m   <a href='file:///home/arman/.local/lib/python3.10/site-packages/matplotlib/image.py?line=1672'>1673</a>\u001b[0m pil_kwargs\u001b[39m.\u001b[39msetdefault(\u001b[39m\"\u001b[39m\u001b[39mformat\u001b[39m\u001b[39m\"\u001b[39m, \u001b[39mformat\u001b[39m)\n\u001b[1;32m   <a href='file:///home/arman/.local/lib/python3.10/site-packages/matplotlib/image.py?line=1673'>1674</a>\u001b[0m pil_kwargs\u001b[39m.\u001b[39msetdefault(\u001b[39m\"\u001b[39m\u001b[39mdpi\u001b[39m\u001b[39m\"\u001b[39m, (dpi, dpi))\n\u001b[0;32m-> <a href='file:///home/arman/.local/lib/python3.10/site-packages/matplotlib/image.py?line=1674'>1675</a>\u001b[0m image\u001b[39m.\u001b[39;49msave(fname, \u001b[39m*\u001b[39;49m\u001b[39m*\u001b[39;49mpil_kwargs)\n",
      "File \u001b[0;32m~/.local/lib/python3.10/site-packages/PIL/Image.py:2237\u001b[0m, in \u001b[0;36mImage.save\u001b[0;34m(self, fp, format, **params)\u001b[0m\n\u001b[1;32m   <a href='file:///home/arman/.local/lib/python3.10/site-packages/PIL/Image.py?line=2234'>2235</a>\u001b[0m         fp \u001b[39m=\u001b[39m builtins\u001b[39m.\u001b[39mopen(filename, \u001b[39m\"\u001b[39m\u001b[39mr+b\u001b[39m\u001b[39m\"\u001b[39m)\n\u001b[1;32m   <a href='file:///home/arman/.local/lib/python3.10/site-packages/PIL/Image.py?line=2235'>2236</a>\u001b[0m     \u001b[39melse\u001b[39;00m:\n\u001b[0;32m-> <a href='file:///home/arman/.local/lib/python3.10/site-packages/PIL/Image.py?line=2236'>2237</a>\u001b[0m         fp \u001b[39m=\u001b[39m builtins\u001b[39m.\u001b[39;49mopen(filename, \u001b[39m\"\u001b[39;49m\u001b[39mw+b\u001b[39;49m\u001b[39m\"\u001b[39;49m)\n\u001b[1;32m   <a href='file:///home/arman/.local/lib/python3.10/site-packages/PIL/Image.py?line=2238'>2239</a>\u001b[0m \u001b[39mtry\u001b[39;00m:\n\u001b[1;32m   <a href='file:///home/arman/.local/lib/python3.10/site-packages/PIL/Image.py?line=2239'>2240</a>\u001b[0m     save_handler(\u001b[39mself\u001b[39m, fp, filename)\n",
      "\u001b[0;31mFileNotFoundError\u001b[0m: [Errno 2] No such file or directory: 'out/data_aug_IP/275476_0.png'"
     ]
    }
   ],
   "source": [
    "for p in h5py_files:\n",
    "    with h5py.File(p) as f:\n",
    "        img = cv2.resize(np.array(f['X'])[...,0], (1024, 512), cv2.INTER_NEAREST)/255\n",
    "        name = os.path.splitext(os.path.basename(p))[0]\n",
    "        \n",
    "        tooth_t = [t for t in treatments[name] if treatments[name][t]]\n",
    "        tooth_inpaint = []\n",
    "\n",
    "        inpaint = inference.infer(model, img)\n",
    "        \n",
    "        # plt.imsave(\"OUT/original/\" + name + \".png\", img, cmap='gray')\n",
    "        # plt.imsave(\"OUT/totalinpaint/\" + name + \".png\", inpaint, cmap='gray')\n",
    "        # plt.imsave(\"OUT/selective_IP/\" + name + \".png\", (inpaint if len(tooth_t) else img), cmap='gray')\n",
    "\n",
    "        for i in tooth_t:\n",
    "            segm = cv2.resize(np.array(f['y'])[...,i], (1024, 512), cv2.INTER_NEAREST)\n",
    "            segm = cv2.dilate(segm, kernel, iterations=1)\n",
    "            tooth_inpaint.append(np.multiply(segm, inpaint))\n",
    "\n",
    "        smartinpaint = img\n",
    "        for tooth in tooth_inpaint:\n",
    "            smartinpaint = np.where(tooth, tooth, smartinpaint) \n",
    "            \n",
    "        for i in range(len(tooth_inpaint)+1):\n",
    "            inpaint_i = img\n",
    "            selected_treatments = random.sample(tooth_inpaint, i)\n",
    "            for tooth in selected_treatments:\n",
    "                inpaint_i = np.where(tooth, tooth, inpaint_i)\n",
    "            plt.imsave(\"OUT/data_aug_IP/\" + name + \"_\" + str(i) + \".png\", inpaint_i, cmap='gray')\n",
    "\n",
    "            \n",
    "                \n",
    "        plt.imsave(\"OUT/data_aug_total_IP/\" + name + \".png\", smartinpaint, cmap='gray')"
   ]
  },
  {
   "cell_type": "code",
   "execution_count": null,
   "metadata": {},
   "outputs": [],
   "source": []
  }
 ],
 "metadata": {
  "interpreter": {
   "hash": "e7370f93d1d0cde622a1f8e1c04877d8463912d04d973331ad4851f04de6915a"
  },
  "kernelspec": {
   "display_name": "Python 3.10.4 64-bit",
   "language": "python",
   "name": "python3"
  },
  "language_info": {
   "codemirror_mode": {
    "name": "ipython",
    "version": 3
   },
   "file_extension": ".py",
   "mimetype": "text/x-python",
   "name": "python",
   "nbconvert_exporter": "python",
   "pygments_lexer": "ipython3",
   "version": "3.10.4"
  },
  "orig_nbformat": 4
 },
 "nbformat": 4,
 "nbformat_minor": 2
}
