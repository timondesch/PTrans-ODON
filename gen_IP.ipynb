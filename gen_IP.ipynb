{
 "cells": [
  {
   "cell_type": "code",
   "execution_count": null,
   "metadata": {},
   "outputs": [],
   "source": [
    "import h5py\n",
    "from glob import glob\n",
    "import random\n",
    "import csv\n",
    "\n",
    "import numpy as np\n",
    "import cv2\n",
    "\n",
    "import tensorflow as tf\n",
    "from tensorflow import keras\n",
    "\n",
    "import matplotlib.pyplot as plt\n",
    "\n",
    "from tools.IPDL import inference"
   ]
  },
  {
   "cell_type": "code",
   "execution_count": null,
   "metadata": {},
   "outputs": [],
   "source": [
    "model = inference.createModel(\"tools/IPDL/model_weights.keras\")\n",
    "\n",
    "label_file = \"IN/labels.csv\"\n",
    "\n",
    "h5py_files = glob('IN/H5PY/dataset_h5py/*.h5py')"
   ]
  },
  {
   "cell_type": "code",
   "execution_count": null,
   "metadata": {},
   "outputs": [],
   "source": [
    "treatments = {}\n",
    "with open(label_file, 'r') as f:\n",
    "    file = csv.reader(f, delimiter=',')\n",
    "    for line in file:\n",
    "        treatments[line[0]] = {}\n",
    "        for i in range(1, 33):\n",
    "            treatments[line[0]][i] = bool(int(line[i][-1]))"
   ]
  },
  {
   "cell_type": "code",
   "execution_count": null,
   "metadata": {},
   "outputs": [],
   "source": [
    "kernel = np.ones((5,5))"
   ]
  },
  {
   "cell_type": "code",
   "execution_count": null,
   "metadata": {},
   "outputs": [],
   "source": [
    "for p in h5py_files:\n",
    "    with h5py.File(p) as f:\n",
    "        img = cv2.resize(np.array(f['X'])[...,0], (1024, 512), cv2.INTER_NEAREST)/255\n",
    "        name = os.path.splitext(os.path.basename(p))[0]\n",
    "        \n",
    "        tooth_t = [t for t in treatments[name] if treatments[name][t]]\n",
    "        tooth_inpaint = []\n",
    "\n",
    "        inpaint = inference.infer(model, img)\n",
    "        \n",
    "        # plt.imsave(\"OUT/original/\" + name + \".png\", img, cmap='gray')\n",
    "        # plt.imsave(\"OUT/totalinpaint/\" + name + \".png\", inpaint, cmap='gray')\n",
    "        # plt.imsave(\"OUT/selective_IP/\" + name + \".png\", (inpaint if len(tooth_t) else img), cmap='gray')\n",
    "\n",
    "        for i in tooth_t:\n",
    "            segm = cv2.resize(np.array(f['y'])[...,i], (1024, 512), cv2.INTER_NEAREST)\n",
    "            segm = cv2.dilate(segm, kernel, iterations=1)\n",
    "            tooth_inpaint.append(np.multiply(segm, inpaint))\n",
    "\n",
    "        smartinpaint = img\n",
    "        for tooth in tooth_inpaint:\n",
    "            smartinpaint = np.where(tooth, tooth, smartinpaint) \n",
    "            \n",
    "        for i in range(len(tooth_inpaint)+1):\n",
    "            inpaint_i = img\n",
    "            selected_treatments = random.sample(tooth_inpaint, i)\n",
    "            for tooth in selected_treatments:\n",
    "                inpaint_i = np.where(tooth, tooth, inpaint_i)\n",
    "            plt.imsave(\"OUT/data_aug_IP/\" + name + \"_\" + str(i) + \".png\", inpaint_i, cmap='gray')\n",
    "\n",
    "            \n",
    "                \n",
    "        plt.imsave(\"OUT/data_aug_total_IP/\" + name + \".png\", smartinpaint, cmap='gray')"
   ]
  },
  {
   "cell_type": "code",
   "execution_count": null,
   "metadata": {},
   "outputs": [],
   "source": []
  }
 ],
 "metadata": {
  "interpreter": {
   "hash": "e7370f93d1d0cde622a1f8e1c04877d8463912d04d973331ad4851f04de6915a"
  },
  "kernelspec": {
   "display_name": "Python 3.10.4 64-bit",
   "language": "python",
   "name": "python3"
  },
  "language_info": {
   "codemirror_mode": {
    "name": "ipython",
    "version": 3
   },
   "file_extension": ".py",
   "mimetype": "text/x-python",
   "name": "python",
   "nbconvert_exporter": "python",
   "pygments_lexer": "ipython3",
   "version": "3.10.4"
  },
  "orig_nbformat": 4
 },
 "nbformat": 4,
 "nbformat_minor": 2
}
