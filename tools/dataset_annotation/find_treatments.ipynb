{
 "cells": [
  {
   "cell_type": "code",
   "execution_count": null,
   "metadata": {},
   "outputs": [],
   "source": [
    "import random\n",
    "import os\n",
    "import csv\n",
    "\n",
    "import h5py\n",
    "from glob import glob\n",
    "\n",
    "import cv2\n",
    "import numpy as np \n",
    "import matplotlib.pyplot as plt\n",
    "from PIL import Image, ImageFont, ImageDraw \n",
    "\n",
    "from sklearn.mixture import GaussianMixture"
   ]
  },
  {
   "cell_type": "code",
   "execution_count": null,
   "metadata": {},
   "outputs": [],
   "source": [
    "path_in = \"../../IN/H5PY/dataset_h5py/\"\n",
    "files = glob(path_in + \"*.h5py\")"
   ]
  },
  {
   "cell_type": "code",
   "execution_count": null,
   "metadata": {},
   "outputs": [],
   "source": [
    "font = ImageFont.truetype(r\"iosevka-regular.ttf\", 20)\n",
    "\n",
    "def draw_annotation(X, coord):\n",
    "    X_draw = Image.fromarray(X)\n",
    "    X_drawable = ImageDraw.Draw(X_draw)\n",
    "    for point in coord:\n",
    "        X_drawable.text((point[0]-20, point[1]-20,), str(point[3]), fill=point[2], font=font)\n",
    "    return np.array(X_draw)"
   ]
  },
  {
   "cell_type": "code",
   "execution_count": null,
   "metadata": {},
   "outputs": [],
   "source": [
    "treatments_out = {}"
   ]
  },
  {
   "cell_type": "code",
   "execution_count": null,
   "metadata": {},
   "outputs": [],
   "source": [
    "thresh = 245/255\n",
    "\n",
    "for p in files:\n",
    "   name = os.path.splitext(os.path.basename(p))[0] \n",
    "   treatments_out[name] = {}\n",
    "   print(name)\n",
    "   \n",
    "   with h5py.File(p) as f:\n",
    "       img = np.array(f['X'])[...,0]\n",
    "       points = []\n",
    "       img_max = np.max(img)\n",
    "\n",
    "       for i in range(1,33):\n",
    "           treatments_out[name][i] = 0\n",
    "           mask = f['y'][...,i]\n",
    "\n",
    "           if mask.any() :\n",
    "               tooth = np.where(mask, img, 0)\n",
    "               middle = np.ceil([np.mean(np.nonzero(tooth)[1]), np.mean(np.nonzero(tooth)[0])])\n",
    "               \n",
    "               distrib =  np.vstack(np.unique(tooth, return_counts=True)).T\n",
    "\n",
    "               gm = GaussianMixture(n_components=5).fit(distrib)\n",
    "               to_write = str(i) + \" : \" + str(int(np.ceil(np.max(gm.means_[...,0]))))\n",
    "\n",
    "               if np.any([gm.means_[...,0] >= thresh*img_max ]):\n",
    "                   points.append([*middle, \"green\", to_write])\n",
    "                   treatments_out[name][i] = 1\n",
    "               else:\n",
    "                   points.append([*middle, \"red\", to_write])\n",
    "                   treatments_out[name][i] = 0\n",
    "\n",
    "       img = np.repeat(img[..., np.newaxis], 3, axis=2)\n",
    "       img = draw_annotation(img, points)\n",
    "       plt.imsave(\"OUT/\" + name + \".png\", img.astype(np.uint8))"
   ]
  },
  {
   "cell_type": "code",
   "execution_count": null,
   "metadata": {},
   "outputs": [],
   "source": [
    "with open('out.csv', 'w') as f:\n",
    "    for key in sorted(treatments_out):\n",
    "        f.write(key)\n",
    "        for tooth in treatments_out[key]:\n",
    "            f.write(\", \" + str(tooth) + \" : \" + str(treatments_out[key][tooth]))\n",
    "        f.write(\"\\n\")"
   ]
  }
 ],
 "metadata": {
  "kernelspec": {
   "display_name": "Python 3.10.4 64-bit",
   "language": "python",
   "name": "python3"
  },
  "language_info": {
   "codemirror_mode": {
    "name": "ipython",
    "version": 3
   },
   "file_extension": ".py",
   "mimetype": "text/x-python",
   "name": "python",
   "nbconvert_exporter": "python",
   "pygments_lexer": "ipython3",
   "version": "3.10.4"
  },
  "orig_nbformat": 4,
  "vscode": {
   "interpreter": {
    "hash": "e7370f93d1d0cde622a1f8e1c04877d8463912d04d973331ad4851f04de6915a"
   }
  }
 },
 "nbformat": 4,
 "nbformat_minor": 2
}
