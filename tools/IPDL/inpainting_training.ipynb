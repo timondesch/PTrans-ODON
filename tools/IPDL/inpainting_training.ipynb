{
 "cells": [
  {
   "cell_type": "markdown",
   "metadata": {
    "id": "7KlcVNbe29Ez"
   },
   "source": [
    "## Setups, Installations and Imports"
   ]
  },
  {
   "cell_type": "code",
   "execution_count": null,
   "metadata": {
    "colab": {
     "base_uri": "https://localhost:8080/"
    },
    "id": "y85SvPWS37yf",
    "outputId": "e78503cf-84bc-4768-e59f-265a73ae4937"
   },
   "outputs": [],
   "source": [
    "import tensorflow as tf\n",
    "print(tf.__version__)\n",
    "from tensorflow import keras"
   ]
  },
  {
   "cell_type": "code",
   "execution_count": null,
   "metadata": {
    "colab": {
     "base_uri": "https://localhost:8080/"
    },
    "id": "r4EXTbl8r3-P",
    "outputId": "c8a332e3-2d31-4088-ea49-99a4336b6b8c"
   },
   "outputs": [],
   "source": [
    "!nvidia-smi"
   ]
  },
  {
   "cell_type": "code",
   "execution_count": null,
   "metadata": {
    "id": "sd8ViDQz4-az"
   },
   "outputs": [],
   "source": [
    "import os\n",
    "import cv2\n",
    "import numpy as np\n",
    "import PIL\n",
    "from datetime import datetime\n",
    "\n",
    "import matplotlib.pyplot as plt\n",
    "%matplotlib inline"
   ]
  },
  {
   "cell_type": "code",
   "execution_count": null,
   "metadata": {
    "id": "m9YdJqs_YRP2"
   },
   "outputs": [],
   "source": [
    "seed_out = datetime.now().strftime(\"%d-%m-%Y_%H-%M-%S\")"
   ]
  },
  {
   "cell_type": "markdown",
   "metadata": {
    "id": "kKgylid25AZf"
   },
   "source": [
    "# Prepare Dataset"
   ]
  },
  {
   "cell_type": "code",
   "execution_count": null,
   "metadata": {
    "id": "VV9h97t_QkM-"
   },
   "outputs": [],
   "source": [
    "def open_resize(path):\n",
    "    return np.array((PIL.Image.open(path)).convert('L').resize((1024, 512)))/255"
   ]
  },
  {
   "cell_type": "code",
   "execution_count": null,
   "metadata": {
    "id": "l9uie7k9QkM_"
   },
   "outputs": [],
   "source": [
    "data_dir = \"../../IN/PNG/bases/\"\n",
    "base_dir = \"../../IN/PNG/generated_treatments/\"\n",
    "bases = {}\n",
    "for base in os.listdir(base_dir):\n",
    "  name = base.split(\".\")[0]\n",
    "  bases[name] = open_resize(base_dir + name + \".png\")\n",
    "\n",
    "x_data = []\n",
    "y_data = []\n",
    "\n",
    "for dir in [x[0] for x in os.walk(data_dir)]:\n",
    "    for file in os.listdir(dir):\n",
    "        filename = os.fsdecode(file)\n",
    "        if \".png\" and \"_\" in filename:\n",
    "            x_data.append(open_resize(os.path.join(dir, filename)))\n",
    "            y_data.append(bases[filename.split(\"_\")[0]])\n",
    "\n",
    "x_data = np.asarray(x_data, dtype=np.float32)\n",
    "y_data = np.asarray(y_data, dtype=np.float32)"
   ]
  },
  {
   "cell_type": "markdown",
   "metadata": {
    "id": "FIRd3TegQkNA"
   },
   "source": [
    "## Shuffling datasets and setting val set"
   ]
  },
  {
   "cell_type": "code",
   "execution_count": null,
   "metadata": {
    "id": "yQga6TvJQkNA"
   },
   "outputs": [],
   "source": [
    "p = np.random.permutation(len(x_data))\n",
    "x_data, y_data = x_data[p], y_data[p]\n",
    "\n",
    "l = len(x_data)\n",
    "training_size = int(l * 0.85)\n",
    "# test_size = int(l * 0.15)\n",
    "val_size = int(l * 0.15)\n",
    "\n",
    "x_train = x_data[:training_size]\n",
    "y_train = y_data[:training_size]\n",
    "\n",
    "# x_test = x_data[training_size:training_size + test_size]\n",
    "# y_test = y_data[training_size:training_size + test_size]\n",
    "               \n",
    "# x_val = x_data[training_size + test_size:]\n",
    "# y_val = y_data[training_size + test_size:]\n",
    "\n",
    "\n",
    "x_val = x_data[training_size:]\n",
    "y_val = y_data[training_size:]\n"
   ]
  },
  {
   "cell_type": "code",
   "execution_count": null,
   "metadata": {
    "id": "dzeJQcghQkNC"
   },
   "outputs": [],
   "source": [
    "def show(img):\n",
    "    plt.imshow(img, cmap='gray', vmin=0, vmax=1)\n",
    "    plt.axis('off')\n",
    "    plt.show()"
   ]
  },
  {
   "cell_type": "code",
   "execution_count": null,
   "metadata": {
    "id": "TLhCmnVlcI11"
   },
   "outputs": [],
   "source": [
    "def show_full_res(img):\n",
    "    cv2.imshow(img*255)"
   ]
  },
  {
   "cell_type": "code",
   "execution_count": null,
   "metadata": {
    "colab": {
     "background_save": true,
     "base_uri": "https://localhost:8080/",
     "height": 379
    },
    "id": "fuL3pnGoQkNE",
    "outputId": "50ac1738-f68b-467f-af1e-207cbc080e3f"
   },
   "outputs": [],
   "source": [
    "show(x_train[8])\n",
    "show(y_train[8])\n"
   ]
  },
  {
   "cell_type": "code",
   "execution_count": null,
   "metadata": {
    "id": "WpkprpYFQkNR"
   },
   "outputs": [],
   "source": [
    "class inpaintingModel:\n",
    "  '''\n",
    "  Build UNET like model for image inpaining task.\n",
    "  '''\n",
    "  def prepare_model(self, input_size=(512, 1024,1)):\n",
    "    inputs = keras.layers.Input(input_size)\n",
    "\n",
    "    conv1, pool1 = self.__ConvBlock(32, (3,3), (2,2), 'relu', 'same', inputs) \n",
    "    conv2, pool2 = self.__ConvBlock(64, (3,3), (2,2), 'relu', 'same', pool1)\n",
    "    conv3, pool3 = self.__ConvBlock(128, (3,3), (2,2), 'relu', 'same', pool2) \n",
    "    conv4, pool4 = self.__ConvBlock(256, (3,3), (2,2), 'relu', 'same', pool3) \n",
    "    \n",
    "    conv5, up6 = self.__UpConvBlock(512, 256, (3,3), (2,2), (2,2), 'relu', 'same', pool4, conv4)\n",
    "    conv6, up7 = self.__UpConvBlock(256, 128, (3,3), (2,2), (2,2), 'relu', 'same', up6, conv3)\n",
    "    conv7, up8 = self.__UpConvBlock(128, 64, (3,3), (2,2), (2,2), 'relu', 'same', up7, conv2)\n",
    "    conv8, up9 = self.__UpConvBlock(64, 32, (3,3), (2,2), (2,2), 'relu', 'same', up8, conv1)\n",
    "    \n",
    "    conv9 = self.__ConvBlock(32, (3,3), (2,2), 'relu', 'same', up9, False)\n",
    "    \n",
    "    outputs = keras.layers.Conv2D(1, (3, 3), activation='sigmoid', padding='same')(conv9)\n",
    "\n",
    "    return keras.models.Model(inputs=[inputs], outputs=[outputs])  \n",
    "\n",
    "  def __ConvBlock(self, filters, kernel_size, pool_size, activation, padding, connecting_layer, pool_layer=True):\n",
    "    conv = keras.layers.Conv2D(filters=filters, kernel_size=kernel_size, activation=activation, padding=padding)(connecting_layer)\n",
    "    conv = keras.layers.Conv2D(filters=filters, kernel_size=kernel_size, activation=activation, padding=padding)(conv)\n",
    "    if pool_layer:\n",
    "      pool = keras.layers.MaxPooling2D(pool_size)(conv)\n",
    "      return conv, pool\n",
    "    else:\n",
    "      return conv\n",
    "\n",
    "  def __UpConvBlock(self, filters, up_filters, kernel_size, up_kernel, up_stride, activation, padding, connecting_layer, shared_layer):\n",
    "    conv = keras.layers.Conv2D(filters=filters, kernel_size=kernel_size, activation=activation, padding=padding)(connecting_layer)\n",
    "    conv = keras.layers.Conv2D(filters=filters, kernel_size=kernel_size, activation=activation, padding=padding)(conv)\n",
    "    up = keras.layers.Conv2DTranspose(filters=up_filters, kernel_size=up_kernel, strides=up_stride, padding=padding)(conv)\n",
    "    up = keras.layers.concatenate([up, shared_layer], axis=3)\n",
    "\n",
    "    return conv, up"
   ]
  },
  {
   "cell_type": "code",
   "execution_count": null,
   "metadata": {
    "colab": {
     "base_uri": "https://localhost:8080/",
     "height": 1000
    },
    "id": "lnMiuRBMbVP1",
    "outputId": "b4dc081b-89a9-4c7b-9c27-18b003141818"
   },
   "outputs": [],
   "source": [
    "keras.backend.clear_session()\n",
    "model = inpaintingModel().prepare_model()\n",
    "model.compile(optimizer='adam', loss='mean_absolute_error')\n",
    "keras.utils.plot_model(model, show_shapes=True, dpi=76, to_file='model_v1.png')"
   ]
  },
  {
   "cell_type": "code",
   "execution_count": null,
   "metadata": {
    "colab": {
     "base_uri": "https://localhost:8080/"
    },
    "id": "TX75RgnHQkNT",
    "outputId": "aeb36d9b-60eb-4e54-8491-d18ff5ec8da3"
   },
   "outputs": [],
   "source": [
    "print(x_train.shape)\n",
    "print(y_train.shape)\n",
    "print(x_val.shape)\n",
    "print(y_val.shape)"
   ]
  },
  {
   "cell_type": "code",
   "execution_count": null,
   "metadata": {
    "colab": {
     "base_uri": "https://localhost:8080/"
    },
    "id": "iWeIdUlDYT3O",
    "outputId": "8c26d467-a696-4166-c959-9fb7f7788596"
   },
   "outputs": [],
   "source": [
    "model.summary()"
   ]
  },
  {
   "cell_type": "markdown",
   "metadata": {
    "id": "d-0ydDC45lqp"
   },
   "source": [
    "# Train"
   ]
  },
  {
   "cell_type": "code",
   "execution_count": null,
   "metadata": {
    "id": "Ybc2z1DGZTQB"
   },
   "outputs": [],
   "source": [
    "# images_pred_log = {\"unseen\" : open_resize(\"drive/MyDrive/PTRANS/data/xrays (all data)/9 2.png\"),\n",
    "#                    \"unseen_hard\" : open_resize(\"drive/MyDrive/PTRANS/data/xrays (all data)/7.png\"),\n",
    "#                    \"training_set\" : x_train[0],\n",
    "#                    \"test_set\" : x_test[0]}\n",
    "\n",
    "# images_pred_log = {\"unseen\" : open_resize(\"drive/MyDrive/PTRANS/data/xrays (all data)/9 2.png\"),\n",
    "#                    \"unseen_hard\" : open_resize(\"drive/MyDrive/PTRANS/data/xrays (all data)/7.png\"),\n",
    "#                    \"training_set\" : x_train[0]}                   \n",
    "\n",
    "# class InpaintingEvolution(tf.keras.callbacks.Callback):\n",
    "#   def __init__(self):\n",
    "#     super(InpaintingEvolution, self).__init__()\n",
    "#     self.dirName = seed_out\n",
    "#     os.makedirs(f\"drive/MyDrive/PTRANS/tasks/inpaintings_DL/unet-like autoencoder/{self.dirName}\")\n",
    "#     for image in images_pred_log:\n",
    "#       os.makedirs(f\"drive/MyDrive/PTRANS/tasks/inpaintings_DL/unet-like autoencoder/{self.dirName}/{image}\")\n",
    "\n",
    "\n",
    "\n",
    "\n",
    "#   def on_epoch_end(self, epoch, logs):\n",
    "#     if int(epoch)%10 == 0:\n",
    "#       for image in images_pred_log:\n",
    "#         # print(f\"drive/MyDrive/PTRANS/tasks/inpaintings_DL/unet-like autoencoder/{self.dirName}/{epoch}_{image}\")\n",
    "#         tmp_im = images_pred_log[image]\n",
    "#         tmp_inpainting = self.model.predict(tmp_im.reshape((1,)+tmp_im.shape))\n",
    "#         tmp_inpainting = tmp_inpainting.reshape(tmp_inpainting.shape[1:-1])\n",
    "#         cv2.imwrite(f\"drive/MyDrive/PTRANS/tasks/inpaintings_DL/unet-like autoencoder/{self.dirName}/{image}/{epoch}_{image}.png\", tmp_inpainting*255)\n",
    "\n",
    "# for image in images_pred_log:\n",
    "#   cv2.imwrite(f\"drive/MyDrive/PTRANS/tasks/inpaintings_DL/unet-like autoencoder/{seed_out}/{image}/{image}.png\", images_pred_log[image]*255)"
   ]
  },
  {
   "cell_type": "code",
   "execution_count": null,
   "metadata": {
    "colab": {
     "base_uri": "https://localhost:8080/"
    },
    "id": "-Fs2unJagj0h",
    "outputId": "b51fed7e-d8ef-4a7b-ddb4-046fae17244f",
    "scrolled": true
   },
   "outputs": [],
   "source": [
    "history = model.fit(x_train, y_train, \n",
    "          validation_data=(x_val, y_val), \n",
    "          epochs=150,\n",
    "          batch_size=8,\n",
    "          use_multiprocessing=True,\n",
    "          callbacks=[keras.callbacks.ModelCheckpoint(\n",
    "                     filepath=f\"drive/MyDrive/PTRANS/tasks/inpaintings_DL/unet-like autoencoder/{seed_out}.keras\",\n",
    "                     save_best_only=True,\n",
    "                     monitor=\"val_loss\"\n",
    "                     )])"
   ]
  },
  {
   "cell_type": "markdown",
   "metadata": {
    "id": "TOSNwA4fGVpI"
   },
   "source": [
    "# Testing on images"
   ]
  },
  {
   "cell_type": "code",
   "execution_count": null,
   "metadata": {
    "colab": {
     "base_uri": "https://localhost:8080/",
     "height": 269
    },
    "id": "sBpJyVv2Ebsj",
    "outputId": "27b3ed72-34aa-4955-a79a-e8e01656c3d6"
   },
   "outputs": [],
   "source": [
    "print(history.history['val_loss'].index(min(history.history['val_loss'])))\n",
    "print(history.history['loss'].index(min(history.history['loss'])))"
   ]
  },
  {
   "cell_type": "code",
   "execution_count": null,
   "metadata": {
    "colab": {
     "base_uri": "https://localhost:8080/",
     "height": 281
    },
    "id": "QeL2h3e3QkNW",
    "outputId": "e33bd519-bc27-4f1f-b3da-1facb40b2f69"
   },
   "outputs": [],
   "source": [
    "loss = history.history[\"loss\"]\n",
    "val_loss = history.history[\"val_loss\"]\n",
    "epochs = range(1,len(loss)+1)\n",
    "plt.plot(epochs, loss, \"y\", label=\"Training loss\", alpha=1)\n",
    "plt.plot(epochs, val_loss, \"b\", label=\"Validation loss\", alpha=0.3)\n",
    "plt.xlabel(\"Epochs\")\n",
    "plt.ylabel(\"Losses\")\n",
    "plt.legend()\n",
    "plt.show()"
   ]
  },
  {
   "cell_type": "code",
   "execution_count": null,
   "metadata": {
    "colab": {
     "base_uri": "https://localhost:8080/",
     "height": 1000
    },
    "id": "eRxg20sZIsCj",
    "outputId": "0958f5aa-9da8-4420-8a62-278c729d68e6"
   },
   "outputs": [],
   "source": [
    "im = x_train[3].copy()\n",
    "print(im.shape)\n",
    "impainted_image = model.predict(im.reshape((1,)+im.shape))\n",
    "show_full_res(impainted_image.reshape(impainted_image.shape[1:-1]))\n",
    "show_full_res(x_train[3])\n",
    "show_full_res(y_train[3])"
   ]
  },
  {
   "cell_type": "code",
   "execution_count": null,
   "metadata": {
    "id": "fJSEALk_I7hf"
   },
   "outputs": [],
   "source": [
    "im = x_test[8].copy()\n",
    "impainted_image = model.predict(im.reshape((1,)+im.shape))\n",
    "show(impainted_image.reshape(impainted_image.shape[1:-1]))\n",
    "show(x_test[8])\n",
    "show(y_test[8])"
   ]
  },
  {
   "cell_type": "code",
   "execution_count": null,
   "metadata": {
    "colab": {
     "base_uri": "https://localhost:8080/",
     "height": 1000
    },
    "id": "WYRg04EVQkNY",
    "outputId": "8e8e3328-f275-40c1-9824-e64ea742be4d"
   },
   "outputs": [],
   "source": [
    "im = open_resize(\"drive/MyDrive/PTRANS/data/xrays (all data)/9 2.png\")\n",
    "impainted_image = model.predict(im.reshape((1,)+im.shape))\n",
    "show_full_res(impainted_image.reshape(impainted_image.shape[1:-1]))\n",
    "show_full_res(im)\n"
   ]
  },
  {
   "cell_type": "code",
   "execution_count": null,
   "metadata": {
    "colab": {
     "base_uri": "https://localhost:8080/",
     "height": 1000
    },
    "id": "mbee4m7gQkNZ",
    "outputId": "2a3b78c0-9a2f-4128-baa5-1fc59641c214"
   },
   "outputs": [],
   "source": [
    "im = open_resize(\"drive/MyDrive/PTRANS/data/xrays (all data)/V-M P-19640317-X-20181010-142144-XK8UKP70EX-4.JPG\")\n",
    "impainted_image = model.predict(im.reshape((1,)+im.shape))\n",
    "show_full_res(impainted_image.reshape(impainted_image.shape[1:-1]))\n",
    "show_full_res(im)"
   ]
  },
  {
   "cell_type": "code",
   "execution_count": null,
   "metadata": {
    "colab": {
     "base_uri": "https://localhost:8080/",
     "height": 1000
    },
    "id": "MUERsW3AjDCv",
    "outputId": "c5265eea-3529-4fa6-939b-7d429b370195"
   },
   "outputs": [],
   "source": [
    "im = open_resize(\"drive/MyDrive/PTRANS/data/xrays (all data)/22-X-20110204-171155-XU3SQD02C7E+-4.JPG\")\n",
    "impainted_image = model.predict(im.reshape((1,)+im.shape))\n",
    "show_full_res(impainted_image.reshape(impainted_image.shape[1:-1]))\n",
    "show_full_res(im)"
   ]
  }
 ],
 "metadata": {
  "accelerator": "GPU",
  "colab": {
   "collapsed_sections": [],
   "name": "Image_Inpainting_Autoencoder_decoder_approach.ipynb",
   "provenance": []
  },
  "kernelspec": {
   "display_name": "Python 3 (ipykernel)",
   "language": "python",
   "name": "python3"
  },
  "language_info": {
   "codemirror_mode": {
    "name": "ipython",
    "version": 3
   },
   "file_extension": ".py",
   "mimetype": "text/x-python",
   "name": "python",
   "nbconvert_exporter": "python",
   "pygments_lexer": "ipython3",
   "version": "3.8.8"
  }
 },
 "nbformat": 4,
 "nbformat_minor": 1
}
