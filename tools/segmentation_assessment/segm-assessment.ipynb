{
 "cells": [
  {
   "cell_type": "code",
   "execution_count": null,
   "id": "2fb29097",
   "metadata": {},
   "outputs": [],
   "source": [
    "import numpy as np\n",
    "\n",
    "from src.dataset_eval import dataset_eval"
   ]
  },
  {
   "cell_type": "code",
   "execution_count": null,
   "id": "4515c6fa",
   "metadata": {},
   "outputs": [],
   "source": [
    "a = dataset_eval(\"assess_data\")"
   ]
  },
  {
   "cell_type": "markdown",
   "id": "220e4354",
   "metadata": {},
   "source": [
    "`model` contient une insance du modèle ODON pour inférer les segmentations"
   ]
  },
  {
   "cell_type": "code",
   "execution_count": null,
   "id": "56affb60",
   "metadata": {
    "scrolled": false
   },
   "outputs": [],
   "source": [
    "a.make_segmentations(model)\n",
    "a.make_segmentations_img()"
   ]
  },
  {
   "cell_type": "code",
   "execution_count": null,
   "id": "f9232d26",
   "metadata": {
    "scrolled": true
   },
   "outputs": [],
   "source": [
    "a.make_scores()"
   ]
  },
  {
   "cell_type": "code",
   "execution_count": null,
   "id": "3b6ee64f",
   "metadata": {},
   "outputs": [],
   "source": [
    "print(a.scores)"
   ]
  },
  {
   "cell_type": "code",
   "execution_count": null,
   "id": "f8493611",
   "metadata": {
    "scrolled": true
   },
   "outputs": [],
   "source": [
    "for i in a.inpaintings :\n",
    "    print(i)\n",
    "    print(\"Mean : \" + str(np.array(list(a.scores[i].values())).mean()))\n",
    "    print(\"SD : \" + str(np.array(list(a.scores[i].values())).std()))"
   ]
  }
 ],
 "metadata": {
  "kernelspec": {
   "display_name": "Python 3.10.4 64-bit",
   "language": "python",
   "name": "python3"
  },
  "language_info": {
   "codemirror_mode": {
    "name": "ipython",
    "version": 3
   },
   "file_extension": ".py",
   "mimetype": "text/x-python",
   "name": "python",
   "nbconvert_exporter": "python",
   "pygments_lexer": "ipython3",
   "version": "3.10.4"
  },
  "vscode": {
   "interpreter": {
    "hash": "e7370f93d1d0cde622a1f8e1c04877d8463912d04d973331ad4851f04de6915a"
   }
  }
 },
 "nbformat": 4,
 "nbformat_minor": 5
}
